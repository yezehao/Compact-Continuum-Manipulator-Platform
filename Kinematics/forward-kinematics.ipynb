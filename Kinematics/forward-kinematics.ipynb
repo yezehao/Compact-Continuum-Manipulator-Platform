{
 "cells": [
  {
   "cell_type": "markdown",
   "metadata": {},
   "source": [
    "# Preperation about the conda environment\n",
    "Create a conda environment called \"manipulator\" with python 3.10 and pip3 installed:    \n",
    "+ 🚀 `conda create -n manipulator python=3.10 `   \n",
    "\n",
    "Activate the environment \"manipulator\" and start installation:   \n",
    "+ 🚀 `conda activate manipulator`  \n",
    "\n",
    "Install pytorch according to the tutorial of [Pytorch Official Website](https://pytorch.org/):   \n",
    "+ 🚀 `conda install pytorch torchvision torchaudio pytorch-cuda=<your_version> -c pytorch -c nvidia`   \n",
    "\n",
    "Install package for juypter notebook:  \n",
    "+ 🚀 `conda install ipykernel` *# juypter notebook use for VScode*\n",
    "+ 🚀 `conda install jupyter notebook`  \n",
    "\n",
    "Pip install packages for further use:   \n",
    "+ 🚀 `pip install matplotlib` *# display the results*\n",
    "+ 🚀 `pip install pandas` *# pandas for debugging and matrices*\n",
    "+ 🚀 `pip install scipy`  *# physical parameters*"
   ]
  },
  {
   "cell_type": "code",
   "execution_count": 1,
   "metadata": {},
   "outputs": [],
   "source": [
    "# Module Import\n",
    "import torch\n",
    "import json\n",
    "import numpy as np"
   ]
  },
  {
   "cell_type": "code",
   "execution_count": 2,
   "metadata": {},
   "outputs": [
    {
     "name": "stdout",
     "output_type": "stream",
     "text": [
      "Using device: cuda\n",
      "Pytorch version: 2.1.2\n",
      "CUDA version: 12.1\n"
     ]
    }
   ],
   "source": [
    "# GPU check\n",
    "device = torch.device('cuda' if torch.cuda.is_available() else 'cpu')\n",
    "print(f'Using device: {device}')\n",
    "print(f'Pytorch version: {torch.__version__}')\n",
    "print(f'CUDA version: {torch.version.cuda}')"
   ]
  },
  {
   "cell_type": "markdown",
   "metadata": {},
   "source": [
    "# Change the angle over there"
   ]
  },
  {
   "cell_type": "code",
   "execution_count": 3,
   "metadata": {},
   "outputs": [],
   "source": [
    "length = 300\n",
    "Sr = 0.5 * length\n",
    "d = 0.015 * length\n",
    "angle = torch.tensor([90, 90, -90, -90])\n",
    "radians = torch.deg2rad(angle) # convert degrees to radians"
   ]
  },
  {
   "cell_type": "code",
   "execution_count": 4,
   "metadata": {},
   "outputs": [
    {
     "name": "stdout",
     "output_type": "stream",
     "text": [
      "Node position for element 1:\n",
      "tensor([0., 0., 0.])\n",
      "\n",
      "Node position for element 2:\n",
      "tensor([99.9930,  0.0000, 95.4930])\n",
      "\n",
      "Node position for element 3:\n",
      "tensor([ 99.9930,  95.4930, 195.4859])\n",
      "\n",
      "Node position for element 4:\n",
      "tensor([195.4859, 195.4859, 195.4859])\n",
      "\n",
      "Node position for element 5:\n",
      "tensor([195.4859, 195.4859, 195.4859])\n",
      "\n"
     ]
    }
   ],
   "source": [
    "# Dictionary Initialization\n",
    "M = [{'bend': torch.eye(3), 'bend_inv': torch.eye(3), 'displacement': torch.zeros(3, 1), \n",
    "      'B': torch.eye(3)} for _ in range(5)]\n",
    "position = torch.zeros(3, 5)\n",
    "node = [{} for _ in range(5)]\n",
    "\n",
    "# Orientation Calculation\n",
    "for i in range(0, 4):\n",
    "    alpha = radians[i]\n",
    "    if torch.sign(alpha) == 0:\n",
    "        Dhorz = 0\n",
    "        Dvert = Sr + d\n",
    "    else:\n",
    "        R = Sr / alpha\n",
    "        Dhorz = R * (1 - np.cos(alpha)) + d * np.sin(alpha)\n",
    "        Dvert = R * np.sin(alpha) + d * np.cos(alpha)\n",
    "    if i % 2 == 0:\n",
    "        Mt = torch.tensor([[1, 0, 0],\n",
    "            [0, torch.cos(alpha), torch.sin(alpha)],\n",
    "            [0, -torch.sin(alpha), torch.cos(alpha)]])\n",
    "        Mt_inv = torch.tensor([[1, 0, 0],\n",
    "            [0, torch.cos(alpha), -torch.sin(alpha)],\n",
    "            [0, torch.sin(alpha), torch.cos(alpha)]])\n",
    "        M[i]['displacement'] = torch.tensor([[0],[Dhorz],[Dvert]])\n",
    "    else:\n",
    "        Mt = torch.tensor([[torch.cos(alpha), 0, torch.sin(alpha)],\n",
    "                                    [0, 1, 0],\n",
    "                                    [-torch.sin(alpha), 0, torch.cos(alpha)]])\n",
    "\n",
    "        Mt_inv = torch.tensor([[torch.cos(alpha), 0, -torch.sin(alpha)],\n",
    "                                        [0, 1, 0],\n",
    "                                        [torch.sin(alpha), 0, torch.cos(alpha)]])\n",
    "\n",
    "        M[i]['displacement'] = torch.tensor([[Dhorz],[0],[Dvert]])\n",
    "    M[i+1]['bend'] = torch.round(Mt * 1e5) / 1e5\n",
    "    M[i+1]['bend_inv'] = torch.round(Mt_inv * M[i]['bend_inv'] * 1e5) / 1e5\n",
    "\n",
    "for i in range(len(M)):\n",
    "    for j in range(i + 1):\n",
    "        M[i]['B'] = torch.mm(M[i]['B'], M[j]['bend'])\n",
    "\n",
    "# Set the original point\n",
    "node[0]['position'] = position[:, 0]\n",
    "\n",
    "# Node position calculation\n",
    "for i in range(1, 5):\n",
    "    position[:, i] = torch.mm(M[i-1]['B'], M[i]['displacement']).squeeze() + position[:, i-1]\n",
    "    node[i]['position'] = position[:, i]\n",
    "\n",
    "[print(f'Node position for element {i+1}:\\n{node[i][\"position\"]}\\n') for i in range(5)]\n",
    "\n",
    "position_np = position.numpy()\n",
    "with open ('data/data.json', 'a') as json_file:\n",
    "    json.dump(position_np.tolist(), json_file)\n",
    "    json_file.write('\\n')"
   ]
  }
 ],
 "metadata": {
  "kernelspec": {
   "display_name": "manipulator",
   "language": "python",
   "name": "python3"
  },
  "language_info": {
   "codemirror_mode": {
    "name": "ipython",
    "version": 3
   },
   "file_extension": ".py",
   "mimetype": "text/x-python",
   "name": "python",
   "nbconvert_exporter": "python",
   "pygments_lexer": "ipython3",
   "version": "3.10.13"
  }
 },
 "nbformat": 4,
 "nbformat_minor": 2
}
